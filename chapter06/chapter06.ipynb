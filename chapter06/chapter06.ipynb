{
 "cells": [
  {
   "cell_type": "markdown",
   "metadata": {},
   "source": [
    "归并排序 Merge sort  \n",
    "快速排序 Quick sort  \n",
    "在python中使用排序  \n",
    "\n",
    "自学内容：  \n",
    "选择排序 Selection（不稳定）     \n",
    "插入排序 Insert（稳定）   \n",
    "冒泡排序 Bubbling（稳定）  \n",
    "时间复杂度均为O(n^2)    \n"
   ]
  },
  {
   "cell_type": "markdown",
   "metadata": {},
   "source": [
    "归并排序 merge sort  \n",
    "最坏时间复杂度O(nlogn)  \n",
    "稳定的排序算法  \n",
    "\n",
    "Quick sort  \n",
    "平均复杂度 O(nlogn)    \n",
    "不是稳定的排序算法  \n"
   ]
  },
  {
   "cell_type": "code",
   "execution_count": null,
   "metadata": {},
   "outputs": [],
   "source": [
    "# 归并排序 merge sort\n",
    "# 先拆分，再不断对两个有序数字合并\n"
   ]
  },
  {
   "cell_type": "code",
   "execution_count": null,
   "metadata": {},
   "outputs": [],
   "source": [
    "Merge two given sorted ascending integer array A and B into a new sorted integer array.\n",
    "\n",
    "Example\n",
    "Example 1:\n",
    "\n",
    "Input:  A=[1], B=[1]\n",
    "Output: [1,1]\t\n",
    "Explanation:  return array merged.\n",
    "Example 2:\n",
    "\n",
    "Input:  A=[1,2,3,4], B=[2,4,5,6]\n",
    "Output: [1,2,2,3,4,4,5,6]\t\n",
    "Explanation: return array merged."
   ]
  },
  {
   "cell_type": "code",
   "execution_count": null,
   "metadata": {},
   "outputs": [],
   "source": [
    "# 两个有序列表排序\n",
    "def mergeSortedArray(self, A, B):\n",
    "    # write your code here\n",
    "\n",
    "    len_a = len(A)\n",
    "    len_b = len(B)\n",
    "\n",
    "    C = []\n",
    "    # a, b两个指针\n",
    "    left, right = 0, 0\n",
    "    # 循环排序，两个列表同时比较\n",
    "    while left < len_a and right < len_b:\n",
    "        # A小出A，指针后移\n",
    "        if A[left] < B[right]:\n",
    "            C.append(A[left])\n",
    "            left += 1\n",
    "        # B小出B，指针后移\n",
    "        else:\n",
    "            C.append(B[right])\n",
    "            right += 1\n",
    "    # 将剩余的A全部出完\n",
    "    while left < len_a:\n",
    "        C.append(A[left])\n",
    "        left += 1\n",
    "    # 将剩余的B全部出完\n",
    "    while right < len_b:\n",
    "        C.append(B[right])\n",
    "        right += 1\n",
    "\n",
    "    return C"
   ]
  },
  {
   "cell_type": "code",
   "execution_count": null,
   "metadata": {},
   "outputs": [],
   "source": [
    "Given an integer array, sort it in ascending order in place. Use quick sort, merge sort, heap sort or any O(nlogn) algorithm.\n",
    "\n",
    "Example\n",
    "Example1:\n",
    "\n",
    "Input: [3, 2, 1, 4, 5], \n",
    "Output: [1, 2, 3, 4, 5].\n",
    "Example2:\n",
    "\n",
    "Input: [2, 3, 1], \n",
    "Output: [1, 2, 3]."
   ]
  },
  {
   "cell_type": "code",
   "execution_count": null,
   "metadata": {},
   "outputs": [],
   "source": [
    "# 归并排序\n",
    "class Solution:\n",
    "    \"\"\"\n",
    "    @param A: an integer array\n",
    "    @return: nothing\n",
    "    \"\"\"\n",
    "    def sortIntegers2(self, A):\n",
    "        # write your code here\n",
    "        # 列表A的长度\n",
    "        len_a = len(A)\n",
    "        # buffer暂存列表\n",
    "        temp = [0 for _ in range(len_a)]\n",
    "        # 调用归并排序算法，传入排序列表，起始下标，buffer\n",
    "        self.merge_sort(A, 0, len_a-1, temp)\n",
    "        \n",
    "        \n",
    "    def merge_sort(self, A, start, end, temp):\n",
    "        \n",
    "        if start >= end:\n",
    "            return\n",
    "        # 递归拆分并排序 [start, mid], [mid+1, end]\n",
    "        mid = (start + end) // 2\n",
    "        self.merge_sort(A, start, mid, temp)\n",
    "        self.merge_sort(A, mid + 1, end, temp)\n",
    "        # 合并 merge [start, mid]  [mid +1, end]\n",
    "        self.merge(A, start, end, temp)\n",
    "        \n",
    "    def merge(self, A, start, end, temp):\n",
    "        mid = (start + end) // 2\n",
    "        # [start, mid] [mid+1, end] -> [start, end]\n",
    "        \n",
    "        left, right = start, mid+1\n",
    "        index = start\n",
    "        \n",
    "        while left <= mid and right <= end:\n",
    "            if A[left] < A[right]:\n",
    "                temp[index] = A[left]\n",
    "                left += 1\n",
    "                index += 1\n",
    "            else:\n",
    "                temp[index] = A[right]\n",
    "                right += 1\n",
    "                index += 1\n",
    "                \n",
    "        while left <= mid:\n",
    "            temp[index] = A[left]\n",
    "            index += 1\n",
    "            left += 1\n",
    "            \n",
    "        while right <= end:\n",
    "            temp[index] = A[right]\n",
    "            index += 1\n",
    "            right += 1\n",
    "        \n",
    "        for index in range(start, end+1):\n",
    "            A[index] = temp[index]\n",
    "            \n",
    "# 一共有logn层，每层有n个元素(都执行操作),总时间复杂度nlogn"
   ]
  },
  {
   "cell_type": "markdown",
   "metadata": {},
   "source": [
    "快速排序Quick Sort  \n",
    "把数组分为两边，使得：  \n",
    "数组的左边小于等于数组的右边（左边最大数小于右边最小数）  \n",
    "对左右两部分数组分别继续排序（递归）  "
   ]
  },
  {
   "cell_type": "markdown",
   "metadata": {},
   "source": [
    "如何选基准数Pivot  \n",
    "选当前数组的第一个数  \n",
    "随机选取数组的任意一个数  "
   ]
  },
  {
   "cell_type": "code",
   "execution_count": null,
   "metadata": {},
   "outputs": [],
   "source": [
    "Given an array nums of integers and an int k, partition the array (i.e move the elements in \"nums\") such that:\n",
    "\n",
    "All elements < k are moved to the left\n",
    "All elements >= k are moved to the right\n",
    "Return the partitioning index, i.e the first index i nums[i] >= k.\n",
    "\n",
    "Example\n",
    "Example 1:\n",
    "\n",
    "Input:\n",
    "[],9\n",
    "Output:\n",
    "0\n",
    "\n",
    "Example 2:\n",
    "\n",
    "Input:\n",
    "[3,2,2,1],2\n",
    "Output:1\n",
    "Explanation:\n",
    "the real array is[1,2,2,3].So return 1\n",
    "Challenge\n",
    "Can you partition the array in-place and in O(n)?\n",
    "\n",
    "Notice\n",
    "You should do really partition in array nums instead of just counting the numbers of integers smaller than k.\n",
    "\n",
    "If all elements in nums are smaller than k, then return nums.length"
   ]
  },
  {
   "cell_type": "code",
   "execution_count": null,
   "metadata": {},
   "outputs": [],
   "source": [
    "class Solution:\n",
    "    \"\"\"\n",
    "    @param nums: The integer array you should partition\n",
    "    @param k: An integer\n",
    "    @return: The index after partition\n",
    "    \"\"\"\n",
    "    def partitionArray(self, nums, k):\n",
    "        # write your code here\n",
    "        left, right = 0, len(nums)-1\n",
    "        \n",
    "        # 左边小于右边，两指针未相遇\n",
    "        while left <= right:\n",
    "            # 左边的小于中间值，就往后走，直到找到大于或等于中间值的数\n",
    "            while left <= right and nums[left] < k:\n",
    "                left += 1\n",
    "            # 右边的大于等于中间值，就往后走，直到找到小于或等于中间值的数\n",
    "            while left <= right and nums[right] > k:\n",
    "                right -= 1\n",
    "            # 交换,左下标后移，右下标左移\n",
    "            if left <= right:\n",
    "                nums[left], nums[right] = nums[right], nums[left]\n",
    "                left += 1\n",
    "                right -=1\n",
    "                \n",
    "        return left"
   ]
  },
  {
   "cell_type": "markdown",
   "metadata": {},
   "source": [
    "Quick Sort中Partition总结  \n",
    "如何把数组分为两部分（partition）  \n",
    "1.两个指针，分别指向当前数组的头和尾  \n",
    "2.如果当前数小于Pivot，左指针继续向右移动，直到左指针指向的数大于Pivot  \n",
    "3.如果当前数大于Pivot，右指针继续向左移动，直到右指针指向的数小于Pivot  \n",
    "4.交换两个指针指向的数，然后两个指针分别移动一位   \n",
    "5.回到第2步，直到left >= right为止"
   ]
  },
  {
   "cell_type": "code",
   "execution_count": null,
   "metadata": {},
   "outputs": [],
   "source": [
    "Given an integer array, sort it in ascending order in place. Use quick sort, merge sort, heap sort or any O(nlogn) algorithm.\n",
    "\n",
    "Example\n",
    "Example1:\n",
    "\n",
    "Input: [3, 2, 1, 4, 5], \n",
    "Output: [1, 2, 3, 4, 5].\n",
    "Example2:\n",
    "\n",
    "Input: [2, 3, 1], \n",
    "Output: [1, 2, 3]."
   ]
  },
  {
   "cell_type": "code",
   "execution_count": null,
   "metadata": {},
   "outputs": [],
   "source": [
    "class Solution:\n",
    "    \"\"\"\n",
    "    @param A: an integer array\n",
    "    @return: nothing\n",
    "    \"\"\"\n",
    "    def sortIntegers2(self, A):\n",
    "        self.quickSort(A, 0, len(A)-1)\n",
    "        \n",
    "    def quickSort(self, A, start, end):\n",
    "        \n",
    "        if start >= end:\n",
    "            return\n",
    "        \n",
    "        #Partition\n",
    "        left, right = start, end\n",
    "        pivot = A[random.randint(start, end)]  # select from start, end\n",
    "        while left <= right:\n",
    "            while left <= right and A[left]<pivot:\n",
    "                left += 1\n",
    "            while left <= right and A[right]>pivot:\n",
    "                right -= 1\n",
    "            if left <= right:\n",
    "                A[left], A[right] = A[right], A[left]\n",
    "                left += 1\n",
    "                right -= 1\n",
    "        \n",
    "        # [start, end]->[start, right], [left, end]\n",
    "        self.quickSort(A, start, right)\n",
    "        self.quickSort(A, left, end)\n",
    "        \n",
    "    "
   ]
  },
  {
   "cell_type": "code",
   "execution_count": null,
   "metadata": {},
   "outputs": [],
   "source": [
    "# 时间复杂度和归并排序一样，平均复杂度nlog(n)，最坏情况n^2"
   ]
  },
  {
   "cell_type": "markdown",
   "metadata": {},
   "source": [
    "python 中使用排序  \n",
    "sort ()  \n",
    "sorted()  "
   ]
  },
  {
   "cell_type": "code",
   "execution_count": 8,
   "metadata": {},
   "outputs": [
    {
     "name": "stdout",
     "output_type": "stream",
     "text": [
      "[1, 2, 3, 4, 5]\n"
     ]
    }
   ],
   "source": [
    "# sort是基于快排的,原地改变a\n",
    "a = [1, 3, 4, 5, 2]\n",
    "a.sort()\n",
    "print(a)"
   ]
  },
  {
   "cell_type": "code",
   "execution_count": 11,
   "metadata": {},
   "outputs": [
    {
     "name": "stdout",
     "output_type": "stream",
     "text": [
      "[2, 3, 6, 7, 2]\n",
      "[2, 2, 3, 6, 7]\n"
     ]
    }
   ],
   "source": [
    "# b本身不变，将改变的结果放入了c中\n",
    "b = [2, 3, 6, 7, 2]\n",
    "c = sorted(b)\n",
    "print(b)\n",
    "print(c)"
   ]
  },
  {
   "cell_type": "code",
   "execution_count": null,
   "metadata": {},
   "outputs": [],
   "source": []
  }
 ],
 "metadata": {
  "kernelspec": {
   "display_name": "Python 3",
   "language": "python",
   "name": "python3"
  },
  "language_info": {
   "codemirror_mode": {
    "name": "ipython",
    "version": 3
   },
   "file_extension": ".py",
   "mimetype": "text/x-python",
   "name": "python",
   "nbconvert_exporter": "python",
   "pygments_lexer": "ipython3",
   "version": "3.7.0"
  },
  "toc": {
   "base_numbering": 1,
   "nav_menu": {},
   "number_sections": true,
   "sideBar": true,
   "skip_h1_title": false,
   "title_cell": "Table of Contents",
   "title_sidebar": "Contents",
   "toc_cell": false,
   "toc_position": {},
   "toc_section_display": true,
   "toc_window_display": false
  }
 },
 "nbformat": 4,
 "nbformat_minor": 2
}

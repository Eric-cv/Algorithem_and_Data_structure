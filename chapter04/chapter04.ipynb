{
 "cells": [
  {
   "cell_type": "code",
   "execution_count": null,
   "metadata": {},
   "outputs": [],
   "source": [
    "Given a string containing just the characters '(', ')', '{', '}', '[' and ']', determine if the input string is valid.\n",
    "\n",
    "The brackets must close in the correct order, \"()\" and \"()[]{}\" are all valid but \"(]\" and \"([)]\" are not.\n",
    "\n",
    "Example\n",
    "Example 1:\n",
    "\n",
    "Input: \"([)]\"\n",
    "Output: False\n",
    "Example 2:\n",
    "\n",
    "Input: \"()[]{}\"\n",
    "Output: True\n",
    "Challenge\n",
    "Use O(n) time, n is the number of parentheses."
   ]
  },
  {
   "cell_type": "code",
   "execution_count": 2,
   "metadata": {},
   "outputs": [],
   "source": [
    "class Solution:\n",
    "    \"\"\"\n",
    "    @param s: A string\n",
    "    @return: whether the string is a valid parentheses\n",
    "    \"\"\"\n",
    "    def isValidParentheses(self, s):\n",
    "        # write your code here\n",
    "        stack = []\n",
    "        for c in s:\n",
    "            # 字符串中左括号放入栈中\n",
    "            if c in ['(', '[', '{']:\n",
    "                stack.append(c)\n",
    "            # 拿右括号匹配\n",
    "            else:\n",
    "                # 空栈不符合要求，直接返回false\n",
    "                if len(stack) == 0:\n",
    "                    return False\n",
    "                # 判断栈尾是否匹配，不匹配返回false\n",
    "                if stack[-1] == '(' and c != ')':\n",
    "                    return False\n",
    "                if stack[-1] == '[' and c != ']':\n",
    "                    return False\n",
    "                if stack[-1] == '{' and c!= '}':\n",
    "                    return False\n",
    "                # 匹配弹出栈尾，列表尾是后进，pop弹出列表尾部\n",
    "                stack.pop()\n",
    "        # 如果全部弹空，栈平衡\n",
    "        return len(stack) == 0\n"
   ]
  },
  {
   "cell_type": "markdown",
   "metadata": {},
   "source": [
    "队列Queue  \n",
    "队列的实现  \n",
    "使用Queue模块  "
   ]
  },
  {
   "cell_type": "code",
   "execution_count": null,
   "metadata": {},
   "outputs": [],
   "source": [
    "# 基于listnode实现queue\n",
    "class ListNode:\n",
    "    def __init__(self, val):\n",
    "        self.val = val\n",
    "        self.next = None\n",
    "\n",
    "class MyQueue:\n",
    "    def __init__(self):\n",
    "        # 初始化队列的头部，dumy = -1，value随机\n",
    "        self.dumy = ListNode(-1)\n",
    "        self.tail = self.dumy\n",
    "    \n",
    "    # 压栈\n",
    "    def enqueue(self, item):\n",
    "        node = ListNode(item)\n",
    "        # 原来的尾部指向新节点，相当于把新节点挂在尾部\n",
    "        # 更新新的尾部节点\n",
    "        self.tail.next = node\n",
    "        self.tail = node\n",
    "        \n",
    "    # 弹栈\n",
    "    def dequeue(self):\n",
    "        # 先进先出，从队头弹出\n",
    "        # 将队列头部的后一个节点值item取到\n",
    "        item = self.dumy.next.val\n",
    "        # 将此节点的后一个节点挂到队列头部上\n",
    "        self.dumy.next = self.dumy.next.next\n",
    "        # 如果队列就是空，头等于尾,啥也删不掉\n",
    "        if self.dumy.next is None:\n",
    "            self.tail = self.dumy\n",
    "        # 返回弹出的value\n",
    "        return item\n",
    "    \n",
    "    # 判空\n",
    "    def empty(self):\n",
    "        return self.dumy.next is None\n",
    "        "
   ]
  },
  {
   "cell_type": "code",
   "execution_count": 9,
   "metadata": {},
   "outputs": [
    {
     "name": "stdout",
     "output_type": "stream",
     "text": [
      "10\n",
      "20\n",
      "30\n"
     ]
    }
   ],
   "source": [
    "# python自带的queue类实现queue\n",
    "import queue\n",
    "\n",
    "# 可以设置队列的最多元素\n",
    "queue = queue.Queue(maxsize = 10)\n",
    "# 入队\n",
    "queue.put(10)\n",
    "queue.put(20)\n",
    "queue.put(30)\n",
    "# 出队\n",
    "print(queue.get())\n",
    "print(queue.get())\n",
    "print(queue.get())"
   ]
  },
  {
   "cell_type": "code",
   "execution_count": null,
   "metadata": {},
   "outputs": [],
   "source": [
    "# 操作系统"
   ]
  },
  {
   "cell_type": "code",
   "execution_count": null,
   "metadata": {},
   "outputs": [],
   "source": []
  },
  {
   "cell_type": "code",
   "execution_count": null,
   "metadata": {},
   "outputs": [],
   "source": []
  }
 ],
 "metadata": {
  "kernelspec": {
   "display_name": "Python 3",
   "language": "python",
   "name": "python3"
  },
  "language_info": {
   "codemirror_mode": {
    "name": "ipython",
    "version": 3
   },
   "file_extension": ".py",
   "mimetype": "text/x-python",
   "name": "python",
   "nbconvert_exporter": "python",
   "pygments_lexer": "ipython3",
   "version": "3.7.0"
  },
  "toc": {
   "base_numbering": 1,
   "nav_menu": {},
   "number_sections": true,
   "sideBar": true,
   "skip_h1_title": false,
   "title_cell": "Table of Contents",
   "title_sidebar": "Contents",
   "toc_cell": false,
   "toc_position": {},
   "toc_section_display": true,
   "toc_window_display": false
  }
 },
 "nbformat": 4,
 "nbformat_minor": 2
}

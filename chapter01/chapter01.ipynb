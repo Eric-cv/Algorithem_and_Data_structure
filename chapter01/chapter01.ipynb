{
 "cells": [
  {
   "cell_type": "markdown",
   "metadata": {},
   "source": [
    "轻量级解释性语言：建议python  \n",
    "脚本语言：建议c, c++, java"
   ]
  },
  {
   "cell_type": "markdown",
   "metadata": {},
   "source": [
    "编译语言：  \n",
    "java, c++, 在运行之前先编译成计算机认识的机器码或操作数(compile)  \n",
    "在不同平台上都要编译成二进制机器码再执行，如果把代码改了，不编译，程序仍然是运行之前的代码，结果不会变  \n",
    "解释语言：  \n",
    "每次都是从头开始一行一行的编译，50行出错了，也是解释到本行才会告诉你，而编译型语言，在编译的时候就会报错  \n"
   ]
  },
  {
   "cell_type": "markdown",
   "metadata": {},
   "source": [
    "国外面试：  \n",
    "算法、系统设计  \n",
    "国内面试：\n",
    "很杂  \n",
    "总的估计：学习+消化， 一年以上内化  \n",
    "\n",
    "如何准备简历：  \n",
    "a4纸，做过的项目，实习经历（爬楼梯的过程，very important）  \n",
    "如何准备面试：  \n",
    "准备算法（多刷题，量变导致质变，增加自信心）+系统设计（现在考这个的也越来越多）  \n",
    "code style要良好， 注意多跟面试官聊聊  "
   ]
  },
  {
   "cell_type": "markdown",
   "metadata": {},
   "source": [
    "面试：当你拿到一个面试的问题时，你第一件事是做什么？  \n",
    "先读题， 如果遇到题目阐述不清的地方要跟面试官沟通。  "
   ]
  },
  {
   "cell_type": "markdown",
   "metadata": {},
   "source": [
    "课程目标：  \n",
    "100%简单题，20%中等题，python基础，machine learning基础"
   ]
  },
  {
   "cell_type": "code",
   "execution_count": null,
   "metadata": {},
   "outputs": [],
   "source": [
    "逻辑运算符优先级  \n",
    "not > and > or  \n",
    "字符对应的ASCII码(记住这三个)：   \n",
    "a:97 , A:65, 0: 48  "
   ]
  },
  {
   "cell_type": "code",
   "execution_count": 4,
   "metadata": {},
   "outputs": [
    {
     "name": "stdout",
     "output_type": "stream",
     "text": [
      "97\n",
      "65\n",
      "48\n",
      "a\n",
      "A\n",
      "0\n"
     ]
    }
   ],
   "source": [
    "# ord() 将字符转换成ascii码  \n",
    "print(ord('a'))\n",
    "print(ord('A'))\n",
    "print(ord('0'))\n",
    "# chr() 将ascii码转换成字符\n",
    "print(chr(97))\n",
    "print(chr(65))\n",
    "print(chr(48))"
   ]
  },
  {
   "cell_type": "code",
   "execution_count": 8,
   "metadata": {},
   "outputs": [
    {
     "name": "stdout",
     "output_type": "stream",
     "text": [
      "T\n",
      "False\n"
     ]
    }
   ],
   "source": [
    "# 小写字符t转成大写字符T\n",
    "letter = 't'\n",
    "# 大写A的ascii+bias\n",
    "print(chr(ord('A')+ord(letter)-ord('a')))\n",
    "# 比较字符的大小，等价于比较ascii码\n",
    "print('A'> 'a')"
   ]
  },
  {
   "cell_type": "markdown",
   "metadata": {},
   "source": [
    "程序的三大结构：  \n",
    "1.顺序结构  \n",
    "2.控制结构  \n",
    "根据条件，选择进入程序的分支(if...elif...else..)   \n",
    "3.循环结构   \n",
    "for, while"
   ]
  },
  {
   "cell_type": "code",
   "execution_count": null,
   "metadata": {},
   "outputs": [],
   "source": []
  }
 ],
 "metadata": {
  "kernelspec": {
   "display_name": "Python 3",
   "language": "python",
   "name": "python3"
  },
  "language_info": {
   "codemirror_mode": {
    "name": "ipython",
    "version": 3
   },
   "file_extension": ".py",
   "mimetype": "text/x-python",
   "name": "python",
   "nbconvert_exporter": "python",
   "pygments_lexer": "ipython3",
   "version": "3.7.0"
  },
  "toc": {
   "base_numbering": 1,
   "nav_menu": {},
   "number_sections": true,
   "sideBar": true,
   "skip_h1_title": false,
   "title_cell": "Table of Contents",
   "title_sidebar": "Contents",
   "toc_cell": false,
   "toc_position": {},
   "toc_section_display": true,
   "toc_window_display": false
  }
 },
 "nbformat": 4,
 "nbformat_minor": 2
}

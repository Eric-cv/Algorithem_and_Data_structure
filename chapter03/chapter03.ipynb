{
 "cells": [
  {
   "cell_type": "code",
   "execution_count": 7,
   "metadata": {},
   "outputs": [
    {
     "name": "stdout",
     "output_type": "stream",
     "text": [
      "Hello jiuzhang True\n",
      "HelloHelloHello\n",
      "[10 20]\n",
      "H\n",
      "!\n",
      "e\n",
      "!\n",
      "g\n"
     ]
    }
   ],
   "source": [
    "str1 = 'Hello'\n",
    "str2 = 'jiuzhang'\n",
    "print(str1 + ' '+ str2 + ' ' + str(True))\n",
    "print(str1*3)\n",
    "print('[%s %s]' % (10, 20))\n",
    "\n",
    "str3 = 'Hello JiuZhang!'\n",
    "print(str3[0])\n",
    "print(str3[len(str3)-1])\n",
    "print(str3[1])\n",
    "print(str3[-1])\n",
    "print(str3[-2])"
   ]
  },
  {
   "cell_type": "code",
   "execution_count": 13,
   "metadata": {},
   "outputs": [
    {
     "name": "stdout",
     "output_type": "stream",
     "text": [
      "Hello JiuZhang!\n",
      "Hello JiuZhang!"
     ]
    }
   ],
   "source": [
    "for c in str3:\n",
    "    print(c, end='')\n",
    "print()\n",
    "for idx in range(len(str3)):\n",
    "    print(str3[idx], end='')"
   ]
  },
  {
   "cell_type": "code",
   "execution_count": 14,
   "metadata": {},
   "outputs": [
    {
     "name": "stdout",
     "output_type": "stream",
     "text": [
      "456\n"
     ]
    }
   ],
   "source": [
    "str4 = '456'\n",
    "print(int(str4))"
   ]
  },
  {
   "cell_type": "code",
   "execution_count": 16,
   "metadata": {},
   "outputs": [],
   "source": [
    "# 自定义字符串转整型\n",
    "def stringToInterger(str):\n",
    "    sig = 1\n",
    "    start = 0\n",
    "    if str[0] == '-':\n",
    "        sig = -1\n",
    "        start = 1\n",
    "    # -123 123\n",
    "    num = 0\n",
    "    for idx in range(start, len(str)):\n",
    "        # ord()将字符转成ascii码\n",
    "        num = num *10 + ord(str[idx]) - ord('0')\n",
    "    return num*sig\n",
    "                "
   ]
  },
  {
   "cell_type": "code",
   "execution_count": 29,
   "metadata": {},
   "outputs": [
    {
     "name": "stdout",
     "output_type": "stream",
     "text": [
      "48\n",
      "97\n",
      "65\n"
     ]
    }
   ],
   "source": [
    "# ord只能转换字符,单字符，ord(0-9),不能传超过1位的数\n",
    "print(ord('0'))  # 48\n",
    "print(ord('a'))  # 93\n",
    "print(ord('A'))  # 65"
   ]
  },
  {
   "cell_type": "code",
   "execution_count": 35,
   "metadata": {},
   "outputs": [
    {
     "ename": "UnboundLocalError",
     "evalue": "local variable 'str1' referenced before assignment",
     "output_type": "error",
     "traceback": [
      "\u001b[1;31m---------------------------------------------------------------------------\u001b[0m",
      "\u001b[1;31mUnboundLocalError\u001b[0m                         Traceback (most recent call last)",
      "\u001b[1;32m<ipython-input-35-34b0592ef1b0>\u001b[0m in \u001b[0;36m<module>\u001b[1;34m()\u001b[0m\n\u001b[0;32m     25\u001b[0m         \u001b[1;32mreturn\u001b[0m \u001b[0mstr1\u001b[0m\u001b[1;33m\u001b[0m\u001b[0m\n\u001b[0;32m     26\u001b[0m \u001b[0msolution\u001b[0m \u001b[1;33m=\u001b[0m \u001b[0mSolution\u001b[0m\u001b[1;33m(\u001b[0m\u001b[1;33m)\u001b[0m\u001b[1;33m\u001b[0m\u001b[0m\n\u001b[1;32m---> 27\u001b[1;33m \u001b[0mres\u001b[0m \u001b[1;33m=\u001b[0m \u001b[0msolution\u001b[0m\u001b[1;33m.\u001b[0m\u001b[0mrotateString\u001b[0m\u001b[1;33m(\u001b[0m\u001b[1;34m'abcdefg'\u001b[0m\u001b[1;33m,\u001b[0m \u001b[1;36m2\u001b[0m\u001b[1;33m)\u001b[0m\u001b[1;33m\u001b[0m\u001b[0m\n\u001b[0m\u001b[0;32m     28\u001b[0m \u001b[0mprint\u001b[0m\u001b[1;33m(\u001b[0m\u001b[0mres\u001b[0m\u001b[1;33m)\u001b[0m\u001b[1;33m\u001b[0m\u001b[0m\n",
      "\u001b[1;32m<ipython-input-35-34b0592ef1b0>\u001b[0m in \u001b[0;36mrotateString\u001b[1;34m(self, str, offset)\u001b[0m\n\u001b[0;32m     23\u001b[0m \u001b[1;31m#         return str\u001b[0m\u001b[1;33m\u001b[0m\u001b[1;33m\u001b[0m\u001b[0m\n\u001b[0;32m     24\u001b[0m             \u001b[0mstr1\u001b[0m \u001b[1;33m=\u001b[0m \u001b[1;33m(\u001b[0m\u001b[0mstr\u001b[0m \u001b[1;33m*\u001b[0m \u001b[1;36m2\u001b[0m\u001b[1;33m)\u001b[0m\u001b[1;33m[\u001b[0m\u001b[0mlen\u001b[0m\u001b[1;33m(\u001b[0m\u001b[0mstr\u001b[0m\u001b[1;33m)\u001b[0m\u001b[1;33m-\u001b[0m\u001b[0moffset\u001b[0m\u001b[1;33m:\u001b[0m \u001b[1;36m2\u001b[0m\u001b[1;33m*\u001b[0m\u001b[0mlen\u001b[0m\u001b[1;33m(\u001b[0m\u001b[0mstr\u001b[0m\u001b[1;33m)\u001b[0m\u001b[1;33m-\u001b[0m \u001b[0moffset\u001b[0m\u001b[1;33m]\u001b[0m\u001b[1;33m\u001b[0m\u001b[0m\n\u001b[1;32m---> 25\u001b[1;33m         \u001b[1;32mreturn\u001b[0m \u001b[0mstr1\u001b[0m\u001b[1;33m\u001b[0m\u001b[0m\n\u001b[0m\u001b[0;32m     26\u001b[0m \u001b[0msolution\u001b[0m \u001b[1;33m=\u001b[0m \u001b[0mSolution\u001b[0m\u001b[1;33m(\u001b[0m\u001b[1;33m)\u001b[0m\u001b[1;33m\u001b[0m\u001b[0m\n\u001b[0;32m     27\u001b[0m \u001b[0mres\u001b[0m \u001b[1;33m=\u001b[0m \u001b[0msolution\u001b[0m\u001b[1;33m.\u001b[0m\u001b[0mrotateString\u001b[0m\u001b[1;33m(\u001b[0m\u001b[1;34m'abcdefg'\u001b[0m\u001b[1;33m,\u001b[0m \u001b[1;36m2\u001b[0m\u001b[1;33m)\u001b[0m\u001b[1;33m\u001b[0m\u001b[0m\n",
      "\u001b[1;31mUnboundLocalError\u001b[0m: local variable 'str1' referenced before assignment"
     ]
    }
   ],
   "source": [
    "class Solution:\n",
    "    \"\"\"\n",
    "    @param str: An array of char\n",
    "    @param offset: An integer\n",
    "    @return: nothing\n",
    "    \"\"\"\n",
    "    # 字符串不能修改的，这里str是list\n",
    "    def rotateString(self, str, offset):\n",
    "        # write your code here\n",
    "        # abcdefgabcdefg\n",
    "        \n",
    "        # start = len(str) - offset\n",
    "        # end = start + len(str) -1\n",
    "        # end = 2*len(str)- offset -1\n",
    "        str = list(str)\n",
    "        if offset > len(str) and len(str) > 0:\n",
    "            offset = offset % len(str)\n",
    "            \n",
    "        temp = (str * 2)[len(str)-offset: 2*len(str)- offset]\n",
    "        \n",
    "        for idx in range(len(str)):\n",
    "            str[idx] = temp[idx]\n",
    "        return str\n",
    "\n",
    "solution = Solution()\n",
    "res = solution.rotateString('abcdefg', 2)\n",
    "print(res)"
   ]
  },
  {
   "cell_type": "code",
   "execution_count": 36,
   "metadata": {},
   "outputs": [
    {
     "name": "stdout",
     "output_type": "stream",
     "text": [
      "('a', 'b', 'c')\n"
     ]
    }
   ],
   "source": [
    "# 元组,可以不带括号，自动创建\n",
    "tup = 'a', 'b', 'c'\n",
    "print(tup)"
   ]
  },
  {
   "cell_type": "code",
   "execution_count": 38,
   "metadata": {},
   "outputs": [
    {
     "name": "stdout",
     "output_type": "stream",
     "text": [
      "10\n",
      "(10,)\n"
     ]
    }
   ],
   "source": [
    "# 这种形式创建的不是tup，只有一个元素，是一个整数\n",
    "tup = 10\n",
    "print(tup)\n",
    "# 打一个逗号才是tup\n",
    "tup1 = 10,\n",
    "print(tup1)"
   ]
  },
  {
   "cell_type": "code",
   "execution_count": 40,
   "metadata": {},
   "outputs": [],
   "source": [
    "# tuple元组类型是无法修改的，和字符串一样，无法修改"
   ]
  },
  {
   "cell_type": "code",
   "execution_count": null,
   "metadata": {},
   "outputs": [],
   "source": [
    "# 链表：由节点构成的列表，线性的数据结构\n",
    "class ListNode:\n",
    "    def __init__(self, value):\n",
    "        self.val = value\n",
    "        self.next = None\n",
    "    "
   ]
  }
 ],
 "metadata": {
  "kernelspec": {
   "display_name": "Python 3",
   "language": "python",
   "name": "python3"
  },
  "language_info": {
   "codemirror_mode": {
    "name": "ipython",
    "version": 3
   },
   "file_extension": ".py",
   "mimetype": "text/x-python",
   "name": "python",
   "nbconvert_exporter": "python",
   "pygments_lexer": "ipython3",
   "version": "3.7.0"
  },
  "toc": {
   "base_numbering": 1,
   "nav_menu": {},
   "number_sections": true,
   "sideBar": true,
   "skip_h1_title": false,
   "title_cell": "Table of Contents",
   "title_sidebar": "Contents",
   "toc_cell": false,
   "toc_position": {},
   "toc_section_display": true,
   "toc_window_display": false
  }
 },
 "nbformat": 4,
 "nbformat_minor": 2
}

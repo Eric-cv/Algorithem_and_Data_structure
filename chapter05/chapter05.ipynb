{
 "cells": [
  {
   "cell_type": "markdown",
   "metadata": {},
   "source": [
    "二叉树  \n",
    "每个节点最多有两个子节点  \n",
    "两个子节点分布被称为左孩子和右孩子（左子树，右子树）  \n",
    "叶子节点：没有孩子的节点的节点  \n",
    "\n",
    "不特别说明的话，我们提到的树都是指二叉树  "
   ]
  },
  {
   "cell_type": "markdown",
   "metadata": {},
   "source": [
    "链表是特殊的一种树，树是一种特殊的图  \n",
    "子树（sub-tree）  \n",
    "树中的每个节点代表以它为根的一棵树  \n",
    "左孩子所代表的树称为左子树  \n",
    "右孩子所代表的树称为右子树 "
   ]
  },
  {
   "cell_type": "code",
   "execution_count": 2,
   "metadata": {},
   "outputs": [
    {
     "name": "stdout",
     "output_type": "stream",
     "text": [
      "{val:1, left:{val:2, left:None, right:None}, right:{val:3, left:None, right:None}}\n",
      "{val:2, left:None, right:None}\n",
      "{val:3, left:None, right:None}\n"
     ]
    }
   ],
   "source": [
    "# 构造一棵二叉树  \n",
    "class TreeNode:\n",
    "    def __init__(self, value):\n",
    "        self.val = value\n",
    "        self.left = self.right = None\n",
    "    def __str__(self):\n",
    "        return '{val:%s, left:%s, right:%s}' % (self.val, self.left, self.right)\n",
    "              \n",
    "# class ListNode:\n",
    "#     def __init__(self, value):\n",
    "#         self.val = value\n",
    "#         self.next = None\n",
    "\n",
    "'''\n",
    "  1\n",
    " /  \\\n",
    " 2  3\n",
    "'''\n",
    "node1 = TreeNode(1) \n",
    "node2 = TreeNode(2) \n",
    "node3 = TreeNode(3)\n",
    "\n",
    "# 挂载\n",
    "node1.left = node2\n",
    "node1.right = node3\n",
    "\n",
    "print(node1)\n",
    "print(node2)\n",
    "print(node3)\n"
   ]
  },
  {
   "cell_type": "markdown",
   "metadata": {},
   "source": [
    "树的遍历  \n",
    "1.先序遍历：根左右  \n",
    "2.中序遍历：左根右  \n",
    "3.后序遍历：左右根  \n",
    "树的子树也要遵循这样的遍历规则，遍历的时候遇到子树，就继续向下找，直到找到叶子节点  \n"
   ]
  },
  {
   "cell_type": "markdown",
   "metadata": {},
   "source": [
    "如何遍历一棵树？  \n",
    "程序一般有两种方式：  \n",
    "递归的实现  \n",
    "非递归的实现  "
   ]
  },
  {
   "cell_type": "markdown",
   "metadata": {},
   "source": [
    "递归(recursion)  \n",
    "什么是递归？  \n",
    "数据结构的递归：树就是一种递归的数据结构  \n",
    "算法的递归：函数自己调用自己  "
   ]
  },
  {
   "cell_type": "code",
   "execution_count": null,
   "metadata": {},
   "outputs": [],
   "source": [
    "Find the Nth number in Fibonacci sequence.\n",
    "\n",
    "A Fibonacci sequence is defined as follow:\n",
    "\n",
    "The first two numbers are 0 and 1.\n",
    "The i th number is the sum of i-1 th number and i-2 th number.\n",
    "The first ten numbers in Fibonacci sequence is:\n",
    "\n",
    "0, 1, 1, 2, 3, 5, 8, 13, 21, 34 ...\n",
    "\n",
    "Example\n",
    "Example 1:\n",
    "\tInput:  1\n",
    "\tOutput: 0\n",
    "\t\n",
    "\tExplanation: \n",
    "\treturn the first number in  Fibonacci sequence .\n",
    "\n",
    "Example 2:\n",
    "\tInput:  2\n",
    "\tOutput: 1\n",
    "\t\n",
    "\tExplanation: \n",
    "\treturn the second number in  Fibonacci sequence .\n",
    "\n",
    "Notice\n",
    "The Nth fibonacci number won't exceed the max value of signed 32-bit integer in the test cases.\n"
   ]
  },
  {
   "cell_type": "code",
   "execution_count": 5,
   "metadata": {},
   "outputs": [],
   "source": [
    "# 递归的时间复杂度非常高，幂次方\n",
    "def fibonacci(self, n):\n",
    "    # write your code here\n",
    "    if n == 1:\n",
    "        return 0\n",
    "    if n == 2:\n",
    "        return 1\n",
    "    return self.fibonacci(n-1) + self.fibonacci(n-2)\n",
    "\n"
   ]
  },
  {
   "cell_type": "code",
   "execution_count": 11,
   "metadata": {},
   "outputs": [
    {
     "name": "stdout",
     "output_type": "stream",
     "text": [
      "1\n",
      "3\n",
      "4\n",
      "6\n",
      "7\n"
     ]
    }
   ],
   "source": [
    "# 中序遍历\n",
    "class TreeNode:\n",
    "    def __init__(self, val):\n",
    "        self.val = val\n",
    "        self.left = self.right = None\n",
    "        \n",
    "    def myPrint(self, node):\n",
    "        # 递归出口，叶子节点\n",
    "        if node is None:\n",
    "            return\n",
    "        \n",
    "        self.myPrint(node.left)\n",
    "        print(node.val)\n",
    "        self.myPrint(node.right)\n",
    "        \n",
    "node1 = TreeNode(3)\n",
    "node2 = TreeNode(1)\n",
    "node3 = TreeNode(4)\n",
    "node4 = TreeNode(6)\n",
    "node5 = TreeNode(7)\n",
    "\n",
    "node1.left = node2\n",
    "node1.right = node4\n",
    "\n",
    "node4.left = node3\n",
    "node4.right = node5\n",
    "\n",
    "\n",
    "node1.myPrint(node1)"
   ]
  },
  {
   "cell_type": "markdown",
   "metadata": {},
   "source": [
    "求树的所有叶子节点的和  \n",
    "recursion获取叶子节点的和  \n",
    "访问一个Node：  \n",
    "如果这个Node是叶子节点，则sum就是他本身  \n",
    "如果这个Node不算叶子节点，则sum等于左子树的叶子节点+右子树的叶子节点和  "
   ]
  },
  {
   "cell_type": "code",
   "execution_count": null,
   "metadata": {},
   "outputs": [],
   "source": [
    "class Solution:\n",
    "    def leafSum(self, root):\n",
    "        # 截止条件\n",
    "        # 如果树是空，叶子节点，返回0\n",
    "        if root is None:\n",
    "            return 0\n",
    "        # 如果是根节点，返回根\n",
    "        if root.left is None and root.right is None:\n",
    "            return root.val\n",
    "        # 正常情况下，就是左子树递归+右子树递归\n",
    "        return self.leafSum(root.left) + self.leafSum(root.right)\n",
    "    \n",
    "        \n",
    "# 树的时间复杂度，每个节点仅被访问一次，O(n)"
   ]
  },
  {
   "cell_type": "code",
   "execution_count": null,
   "metadata": {},
   "outputs": [],
   "source": [
    "# 求树的最大深度\n",
    "Given a binary tree, find its maximum depth.\n",
    "\n",
    "The maximum depth is the number of nodes along the longest path from the root node down to the farthest leaf node.\n",
    "\n",
    "Example\n",
    "Example 1:\n",
    "\n",
    "Input: tree = {}\n",
    "Output: 0\n",
    "Explanation: The height of empty tree is 0.\n",
    "Example 2:\n",
    "\n",
    "Input: tree = {1,2,3,#,#,4,5}\n",
    "Output: 3\t\n",
    "Explanation: Like this:\n",
    "   1\n",
    "  / \\                \n",
    " 2   3                \n",
    "    / \\                \n",
    "   4   5\n",
    "it will be serialized {1,2,3,#,#,4,5}\n",
    "Notice\n",
    "The answer will not exceed 5000"
   ]
  },
  {
   "cell_type": "code",
   "execution_count": 12,
   "metadata": {},
   "outputs": [],
   "source": [
    "class Solution:\n",
    "    \"\"\"\n",
    "    @param root: The root of binary tree.\n",
    "    @return: An integer\n",
    "    \"\"\"\n",
    "    def maxDepth(self, root):\n",
    "        # write your code here\n",
    "        # 截止条件\n",
    "        # 叶子节点高度为0\n",
    "        if root is None:\n",
    "            return 0\n",
    "        # 根节点高度为1\n",
    "        if root.left is None and root.right is None:\n",
    "            return 1\n",
    "        # 返回左子树和右子树中高度的最大值加1\n",
    "        return max(self.maxDepth(root.left), self.maxDepth(root.right))+1\n",
    "    \n",
    "# 时间复杂度：O(n)"
   ]
  },
  {
   "cell_type": "code",
   "execution_count": null,
   "metadata": {},
   "outputs": [],
   "source": [
    "# 同质二叉树\n",
    "class Solution:\n",
    "    \"\"\"\n",
    "    @param a: the root of binary tree a.\n",
    "    @param b: the root of binary tree b.\n",
    "    @return: true if they are identical, or false.\n",
    "    \"\"\"\n",
    "    def isIdentical(self, a, b):\n",
    "        # write your code here\n",
    "        # 出口\n",
    "        if a is None and b is None:\n",
    "            return True\n",
    "        if a is not None and b is None:\n",
    "            return False\n",
    "        if a is None and b is not None:\n",
    "            return False\n",
    "            \n",
    "        # 拆分\n",
    "        return a.val == b.val and self.isIdentical(a.left, b.left) \\\n",
    "        and self.isIdentical(a.right, b.right)\n",
    "        "
   ]
  },
  {
   "cell_type": "code",
   "execution_count": null,
   "metadata": {},
   "outputs": [],
   "source": []
  }
 ],
 "metadata": {
  "kernelspec": {
   "display_name": "Python 3",
   "language": "python",
   "name": "python3"
  },
  "language_info": {
   "codemirror_mode": {
    "name": "ipython",
    "version": 3
   },
   "file_extension": ".py",
   "mimetype": "text/x-python",
   "name": "python",
   "nbconvert_exporter": "python",
   "pygments_lexer": "ipython3",
   "version": "3.7.0"
  },
  "toc": {
   "base_numbering": 1,
   "nav_menu": {},
   "number_sections": true,
   "sideBar": true,
   "skip_h1_title": false,
   "title_cell": "Table of Contents",
   "title_sidebar": "Contents",
   "toc_cell": false,
   "toc_position": {},
   "toc_section_display": true,
   "toc_window_display": false
  }
 },
 "nbformat": 4,
 "nbformat_minor": 2
}

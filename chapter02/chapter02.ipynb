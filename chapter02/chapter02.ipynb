{
 "cells": [
  {
   "cell_type": "markdown",
   "metadata": {},
   "source": [
    "函数：  \n",
    "有组织有一定功能的代码，可重复使用  \n",
    "def 关键词开头 + 函数名+ 参数 + 冒号\n",
    "    函数体（缩进）\n",
    "def max(a, b):  \n",
    "    if a > b:  \n",
    "        return a  \n",
    "    return b  "
   ]
  },
  {
   "cell_type": "code",
   "execution_count": 4,
   "metadata": {},
   "outputs": [
    {
     "name": "stdout",
     "output_type": "stream",
     "text": [
      "181\n",
      "101\n",
      "2\n"
     ]
    }
   ],
   "source": [
    "# 内置函数 max, sum, min 均可传多个参数\n",
    "list = [2,101,23,55]\n",
    "print(sum(list))\n",
    "print(max([2,101,23]))\n",
    "print(min(2,101,23))"
   ]
  },
  {
   "cell_type": "code",
   "execution_count": 5,
   "metadata": {},
   "outputs": [
    {
     "name": "stdout",
     "output_type": "stream",
     "text": [
      "100\n",
      "101\n"
     ]
    }
   ],
   "source": [
    "# 自定义函数max，传三个参数\n",
    "def max(a,b,c):\n",
    "    # a最大\n",
    "    if a > b and a > c:\n",
    "        return a\n",
    "    # a不是最大的，最大的在b和c中产生\n",
    "    if b > c:\n",
    "        return b\n",
    "    return c\n",
    "\n",
    "print (max(1, 100, 20))\n",
    "print (max(2, 101, 25))"
   ]
  },
  {
   "cell_type": "code",
   "execution_count": 12,
   "metadata": {},
   "outputs": [
    {
     "name": "stdout",
     "output_type": "stream",
     "text": [
      "\n",
      "    It is a dog class\n",
      "    \n",
      "True\n",
      "wang cai\n",
      "<bound method Dog.speak of <__main__.Dog object at 0x0000024A9D2CB358>>\n",
      "10\n"
     ]
    }
   ],
   "source": [
    "#类\n",
    "class Dog:\n",
    "    '''\n",
    "    It is a dog class\n",
    "    '''\n",
    "    def __init__(self, name):\n",
    "        self.name = name\n",
    "    def speak(self):\n",
    "        return self.name + ':Wow'\n",
    "dog = Dog('wang cai')\n",
    "\n",
    "a = 'name'\n",
    "print(Dog.__doc__)    # 打印类的注释\n",
    "print(hasattr(dog, a))  # has attribute 查看是否有这个属性  \n",
    "print(getattr(dog, 'name'))  #  get attribute 获取属性\n",
    "print(getattr(dog, 'speak'))   # 获取方法，等价于dog.speak\n",
    "\n",
    "setattr(dog, 'linpz', '10')\n",
    "print(dog.linpz)"
   ]
  },
  {
   "cell_type": "code",
   "execution_count": 21,
   "metadata": {},
   "outputs": [
    {
     "name": "stdout",
     "output_type": "stream",
     "text": [
      "linpz\n",
      "linghc\n"
     ]
    }
   ],
   "source": [
    "class Person:\n",
    "    def __init__(self, name):\n",
    "        self.__name = name\n",
    "    def get_name(self):\n",
    "        return self.__name\n",
    "    def set_name(self, name):\n",
    "        # 只允许小于等于6的名字\n",
    "        assert len(name) <= 6\n",
    "        self.__name = name\n",
    "        \n",
    "p = Person('linpz')\n",
    "# print(p.__name)\n",
    "print(p.get_name())  # 外部无法访问私有属性        \n",
    "p.set_name('linghc')  # 调用方法更改属性\n",
    "print(p.get_name())\n"
   ]
  }
 ],
 "metadata": {
  "kernelspec": {
   "display_name": "Python 3",
   "language": "python",
   "name": "python3"
  },
  "language_info": {
   "codemirror_mode": {
    "name": "ipython",
    "version": 3
   },
   "file_extension": ".py",
   "mimetype": "text/x-python",
   "name": "python",
   "nbconvert_exporter": "python",
   "pygments_lexer": "ipython3",
   "version": "3.7.0"
  },
  "toc": {
   "base_numbering": 1,
   "nav_menu": {},
   "number_sections": true,
   "sideBar": true,
   "skip_h1_title": false,
   "title_cell": "Table of Contents",
   "title_sidebar": "Contents",
   "toc_cell": false,
   "toc_position": {},
   "toc_section_display": true,
   "toc_window_display": false
  }
 },
 "nbformat": 4,
 "nbformat_minor": 2
}
